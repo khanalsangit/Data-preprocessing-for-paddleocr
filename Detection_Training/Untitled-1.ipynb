{
 "cells": [
  {
   "cell_type": "code",
   "execution_count": 9,
   "metadata": {},
   "outputs": [],
   "source": [
    "import cv2\n",
    "import numpy as np\n",
    "\n",
    "def add_letterbox(input_path, output_path, target_width, target_height):\n",
    "    # Read the input image\n",
    "    image = cv2.imread(input_path)\n",
    "    \n",
    "    # Get the dimensions of the image\n",
    "    h, w = image.shape[:2]\n",
    "    \n",
    "    # Calculate the aspect ratios\n",
    "    image_ratio = w / h\n",
    "    target_ratio = target_width / target_height\n",
    "\n",
    "    if image_ratio > target_ratio:\n",
    "        # The image is wider than the target aspect ratio\n",
    "        new_width = target_width\n",
    "        new_height = int(target_width / image_ratio)\n",
    "    else:\n",
    "        # The image is taller than the target aspect ratio\n",
    "        new_height = target_height\n",
    "        new_width = int(target_height * image_ratio)\n",
    "\n",
    "    # Resize the image while maintaining the aspect ratio\n",
    "    resized_image = cv2.resize(image, (new_width, new_height), interpolation=cv2.INTER_AREA)\n",
    "\n",
    "    # Create a black canvas with the target dimensions\n",
    "    letterbox_image = np.zeros((target_height, target_width, 3), dtype=np.uint8)\n",
    "\n",
    "    # Calculate the position to paste the resized image\n",
    "    x_offset = (target_width - new_width) // 2\n",
    "    y_offset = (target_height - new_height) // 2\n",
    "\n",
    "    # Paste the resized image onto the black canvas\n",
    "    letterbox_image[y_offset:y_offset+new_height, x_offset:x_offset+new_width] = resized_image\n",
    "\n",
    "    # Save the letterbox image\n",
    "    cv2.imwrite(output_path, letterbox_image)\n",
    "\n",
    "# Usage\n",
    "input_image_path = './check/first.jpg'\n",
    "output_image_path = './first1.jpg'\n",
    "target_width = 300\n",
    "target_height = 300\n",
    "\n",
    "add_letterbox(input_image_path, output_image_path, target_width, target_height)\n"
   ]
  },
  {
   "cell_type": "code",
   "execution_count": 4,
   "metadata": {},
   "outputs": [],
   "source": [
    "import numpy as np\n",
    "import cv2\n",
    "import os\n",
    "input=\"converted_img/Detection_Dataset/TrainAnno\"\n",
    "for text in os.listdir(input):\n",
    "    new=text.replace('gt_','')\n",
    "    os.rename(os.path.join(input,text),os.path.join(input,new))\n",
    "\n"
   ]
  },
  {
   "cell_type": "code",
   "execution_count": null,
   "metadata": {},
   "outputs": [],
   "source": []
  }
 ],
 "metadata": {
  "kernelspec": {
   "display_name": "Python 3",
   "language": "python",
   "name": "python3"
  },
  "language_info": {
   "codemirror_mode": {
    "name": "ipython",
    "version": 3
   },
   "file_extension": ".py",
   "mimetype": "text/x-python",
   "name": "python",
   "nbconvert_exporter": "python",
   "pygments_lexer": "ipython3",
   "version": "3.10.5"
  }
 },
 "nbformat": 4,
 "nbformat_minor": 2
}
